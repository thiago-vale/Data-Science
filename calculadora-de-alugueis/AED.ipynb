{
 "cells": [
  {
   "cell_type": "code",
   "execution_count": 16,
   "metadata": {},
   "outputs": [],
   "source": [
    "import pandas as pd\n",
    "import numpy as np\n",
    "import matplotlib.pyplot as plt\n",
    "import seaborn as sns"
   ]
  },
  {
   "cell_type": "code",
   "execution_count": 17,
   "metadata": {},
   "outputs": [],
   "source": [
    "df = pd.read_csv(\"C:/Users/Thiago/Desktop/DS Python/Potifolio/Calculadora de imoveis/Datasets/aptos_csv.csv\")"
   ]
  },
  {
   "cell_type": "code",
   "execution_count": 18,
   "metadata": {},
   "outputs": [
    {
     "data": {
      "text/html": [
       "<div>\n",
       "<style scoped>\n",
       "    .dataframe tbody tr th:only-of-type {\n",
       "        vertical-align: middle;\n",
       "    }\n",
       "\n",
       "    .dataframe tbody tr th {\n",
       "        vertical-align: top;\n",
       "    }\n",
       "\n",
       "    .dataframe thead th {\n",
       "        text-align: right;\n",
       "    }\n",
       "</style>\n",
       "<table border=\"1\" class=\"dataframe\">\n",
       "  <thead>\n",
       "    <tr style=\"text-align: right;\">\n",
       "      <th></th>\n",
       "      <th>id</th>\n",
       "      <th>url</th>\n",
       "      <th>header</th>\n",
       "      <th>address</th>\n",
       "      <th>amenities</th>\n",
       "      <th>crawler</th>\n",
       "      <th>crawled_at</th>\n",
       "      <th>Quarto</th>\n",
       "      <th>Banheiro</th>\n",
       "      <th>Garagem</th>\n",
       "      <th>...</th>\n",
       "      <th>Área de lazer</th>\n",
       "      <th>Gás Encanado</th>\n",
       "      <th>Espaço verde / Parque</th>\n",
       "      <th>Quadra poliesportiva</th>\n",
       "      <th>Cabeamento estruturado</th>\n",
       "      <th>Próximo a transporte público</th>\n",
       "      <th>...</th>\n",
       "      <th>Área de serviço</th>\n",
       "      <th>Janela de alumínio</th>\n",
       "      <th>Aquário</th>\n",
       "    </tr>\n",
       "  </thead>\n",
       "  <tbody>\n",
       "    <tr>\n",
       "      <th>0</th>\n",
       "      <td>2525381688</td>\n",
       "      <td>https://www.vivareal.com.br/imovel/apartamento...</td>\n",
       "      <td>Apartamento com 2 Quartos para Aluguel, 64m²</td>\n",
       "      <td>Rua Sorocaba, 231 - Botafogo, Rio de Janeiro - RJ</td>\n",
       "      <td>Piscina, Churrasqueira, Academia, Aceita anima...</td>\n",
       "      <td>botafogo</td>\n",
       "      <td>2021-09-03 17:09:00</td>\n",
       "      <td>2</td>\n",
       "      <td>2</td>\n",
       "      <td>0</td>\n",
       "      <td>...</td>\n",
       "      <td>0</td>\n",
       "      <td>0</td>\n",
       "      <td>0</td>\n",
       "      <td>0</td>\n",
       "      <td>0</td>\n",
       "      <td>0</td>\n",
       "      <td>1</td>\n",
       "      <td>0</td>\n",
       "      <td>0</td>\n",
       "      <td>0</td>\n",
       "    </tr>\n",
       "    <tr>\n",
       "      <th>1</th>\n",
       "      <td>2524300075</td>\n",
       "      <td>https://www.vivareal.com.br/imovel/apartamento...</td>\n",
       "      <td>Apartamento com Quarto para Aluguel, 48m²</td>\n",
       "      <td>Rua General Severiano, 180 - Botafogo, Rio de ...</td>\n",
       "      <td>Elevador, Aceita animais, Ar-condicionado, Bic...</td>\n",
       "      <td>botafogo</td>\n",
       "      <td>2021-09-03 17:09:00</td>\n",
       "      <td>1</td>\n",
       "      <td>1</td>\n",
       "      <td>0</td>\n",
       "      <td>...</td>\n",
       "      <td>0</td>\n",
       "      <td>0</td>\n",
       "      <td>0</td>\n",
       "      <td>0</td>\n",
       "      <td>0</td>\n",
       "      <td>0</td>\n",
       "      <td>1</td>\n",
       "      <td>0</td>\n",
       "      <td>0</td>\n",
       "      <td>0</td>\n",
       "    </tr>\n",
       "    <tr>\n",
       "      <th>2</th>\n",
       "      <td>2530576096</td>\n",
       "      <td>https://www.vivareal.com.br/imovel/apartamento...</td>\n",
       "      <td>Apartamento com 2 Quartos para Aluguel, 105m²</td>\n",
       "      <td>Rua São Clemente, 371 - Botafogo, Rio de Janei...</td>\n",
       "      <td>Elevador, Aceita animais, Ar-condicionado, Jar...</td>\n",
       "      <td>botafogo</td>\n",
       "      <td>2021-09-03 17:09:00</td>\n",
       "      <td>2</td>\n",
       "      <td>1</td>\n",
       "      <td>0</td>\n",
       "      <td>...</td>\n",
       "      <td>0</td>\n",
       "      <td>0</td>\n",
       "      <td>0</td>\n",
       "      <td>0</td>\n",
       "      <td>0</td>\n",
       "      <td>0</td>\n",
       "      <td>1</td>\n",
       "      <td>0</td>\n",
       "      <td>0</td>\n",
       "      <td>0</td>\n",
       "    </tr>\n",
       "    <tr>\n",
       "      <th>3</th>\n",
       "      <td>2525700453</td>\n",
       "      <td>https://www.vivareal.com.br/imovel/apartamento...</td>\n",
       "      <td>Apartamento com Quarto para Aluguel, 25m²</td>\n",
       "      <td>Rua Real Grandeza, 100 - Botafogo, Rio de Jane...</td>\n",
       "      <td>NaN</td>\n",
       "      <td>botafogo</td>\n",
       "      <td>2021-09-03 17:09:00</td>\n",
       "      <td>1</td>\n",
       "      <td>1</td>\n",
       "      <td>0</td>\n",
       "      <td>...</td>\n",
       "      <td>0</td>\n",
       "      <td>0</td>\n",
       "      <td>0</td>\n",
       "      <td>0</td>\n",
       "      <td>0</td>\n",
       "      <td>0</td>\n",
       "      <td>0</td>\n",
       "      <td>0</td>\n",
       "      <td>0</td>\n",
       "      <td>0</td>\n",
       "    </tr>\n",
       "    <tr>\n",
       "      <th>4</th>\n",
       "      <td>2525290189</td>\n",
       "      <td>https://www.vivareal.com.br/imovel/apartamento...</td>\n",
       "      <td>Apartamento com 2 Quartos para Aluguel, 70m²</td>\n",
       "      <td>Rua Dona Mariana - Botafogo, Rio de Janeiro - RJ</td>\n",
       "      <td>Mobiliado, Elevador, Ar-condicionado, Área de ...</td>\n",
       "      <td>botafogo</td>\n",
       "      <td>2021-09-03 17:09:00</td>\n",
       "      <td>2</td>\n",
       "      <td>3</td>\n",
       "      <td>0</td>\n",
       "      <td>...</td>\n",
       "      <td>0</td>\n",
       "      <td>0</td>\n",
       "      <td>0</td>\n",
       "      <td>0</td>\n",
       "      <td>0</td>\n",
       "      <td>0</td>\n",
       "      <td>1</td>\n",
       "      <td>1</td>\n",
       "      <td>0</td>\n",
       "      <td>0</td>\n",
       "    </tr>\n",
       "  </tbody>\n",
       "</table>\n",
       "<p>5 rows × 115 columns</p>\n",
       "</div>"
      ],
      "text/plain": [
       "           id                                                url  \\\n",
       "0  2525381688  https://www.vivareal.com.br/imovel/apartamento...   \n",
       "1  2524300075  https://www.vivareal.com.br/imovel/apartamento...   \n",
       "2  2530576096  https://www.vivareal.com.br/imovel/apartamento...   \n",
       "3  2525700453  https://www.vivareal.com.br/imovel/apartamento...   \n",
       "4  2525290189  https://www.vivareal.com.br/imovel/apartamento...   \n",
       "\n",
       "                                          header  \\\n",
       "0   Apartamento com 2 Quartos para Aluguel, 64m²   \n",
       "1      Apartamento com Quarto para Aluguel, 48m²   \n",
       "2  Apartamento com 2 Quartos para Aluguel, 105m²   \n",
       "3      Apartamento com Quarto para Aluguel, 25m²   \n",
       "4   Apartamento com 2 Quartos para Aluguel, 70m²   \n",
       "\n",
       "                                             address  \\\n",
       "0  Rua Sorocaba, 231 - Botafogo, Rio de Janeiro - RJ   \n",
       "1  Rua General Severiano, 180 - Botafogo, Rio de ...   \n",
       "2  Rua São Clemente, 371 - Botafogo, Rio de Janei...   \n",
       "3  Rua Real Grandeza, 100 - Botafogo, Rio de Jane...   \n",
       "4   Rua Dona Mariana - Botafogo, Rio de Janeiro - RJ   \n",
       "\n",
       "                                           amenities   crawler  \\\n",
       "0  Piscina, Churrasqueira, Academia, Aceita anima...  botafogo   \n",
       "1  Elevador, Aceita animais, Ar-condicionado, Bic...  botafogo   \n",
       "2  Elevador, Aceita animais, Ar-condicionado, Jar...  botafogo   \n",
       "3                                                NaN  botafogo   \n",
       "4  Mobiliado, Elevador, Ar-condicionado, Área de ...  botafogo   \n",
       "\n",
       "            crawled_at  Quarto  Banheiro  Garagem  ...  Área de lazer  \\\n",
       "0  2021-09-03 17:09:00       2         2        0  ...              0   \n",
       "1  2021-09-03 17:09:00       1         1        0  ...              0   \n",
       "2  2021-09-03 17:09:00       2         1        0  ...              0   \n",
       "3  2021-09-03 17:09:00       1         1        0  ...              0   \n",
       "4  2021-09-03 17:09:00       2         3        0  ...              0   \n",
       "\n",
       "   Gás Encanado  Espaço verde / Parque  Quadra poliesportiva  \\\n",
       "0             0                      0                     0   \n",
       "1             0                      0                     0   \n",
       "2             0                      0                     0   \n",
       "3             0                      0                     0   \n",
       "4             0                      0                     0   \n",
       "\n",
       "   Cabeamento estruturado  Próximo a transporte público  ...  Área de serviço  \\\n",
       "0                       0                             0    1                0   \n",
       "1                       0                             0    1                0   \n",
       "2                       0                             0    1                0   \n",
       "3                       0                             0    0                0   \n",
       "4                       0                             0    1                1   \n",
       "\n",
       "   Janela de alumínio  Aquário  \n",
       "0                   0        0  \n",
       "1                   0        0  \n",
       "2                   0        0  \n",
       "3                   0        0  \n",
       "4                   0        0  \n",
       "\n",
       "[5 rows x 115 columns]"
      ]
     },
     "execution_count": 18,
     "metadata": {},
     "output_type": "execute_result"
    }
   ],
   "source": [
    "df.head()"
   ]
  },
  {
   "cell_type": "code",
   "execution_count": 19,
   "metadata": {},
   "outputs": [
    {
     "name": "stdout",
     "output_type": "stream",
     "text": [
      "<class 'pandas.core.frame.DataFrame'>\n",
      "RangeIndex: 8009 entries, 0 to 8008\n",
      "Columns: 115 entries, id to Aquário\n",
      "dtypes: float64(1), int64(108), object(6)\n",
      "memory usage: 7.0+ MB\n"
     ]
    }
   ],
   "source": [
    "df.info()"
   ]
  },
  {
   "cell_type": "code",
   "execution_count": 20,
   "metadata": {},
   "outputs": [
    {
     "data": {
      "text/plain": [
       "(8009, 115)"
      ]
     },
     "execution_count": 20,
     "metadata": {},
     "output_type": "execute_result"
    }
   ],
   "source": [
    "df.shape"
   ]
  },
  {
   "cell_type": "code",
   "execution_count": 21,
   "metadata": {},
   "outputs": [
    {
     "data": {
      "text/plain": [
       "botafogo           1080\n",
       "copacabana         1079\n",
       "ipanema            1077\n",
       "cosme_velho        1075\n",
       "leblon              998\n",
       "flamengo            890\n",
       "laranjeiras         366\n",
       "lagoa               331\n",
       "catete              201\n",
       "leme                173\n",
       "glória              159\n",
       "humaitá             144\n",
       "gávea               139\n",
       "jardim_botanico     136\n",
       "são_conrado          88\n",
       "urca                 73\n",
       "Name: crawler, dtype: int64"
      ]
     },
     "execution_count": 21,
     "metadata": {},
     "output_type": "execute_result"
    }
   ],
   "source": [
    "df['crawler'].value_counts()"
   ]
  },
  {
   "cell_type": "code",
   "execution_count": 22,
   "metadata": {},
   "outputs": [
    {
     "data": {
      "text/plain": [
       "<AxesSubplot:xlabel='crawler'>"
      ]
     },
     "execution_count": 22,
     "metadata": {},
     "output_type": "execute_result"
    },
    {
     "data": {
      "image/png": "[encoded data removed]",
      "text/plain": [
       "<Figure size 432x288 with 1 Axes>"
      ]
     },
     "metadata": {
      "needs_background": "light"
     },
     "output_type": "display_data"
    }
   ],
   "source": [
    "df.groupby('crawler').agg({'preço': \"mean\"}).plot(kind='bar')"
   ]
  },
  {
   "cell_type": "code",
   "execution_count": 23,
   "metadata": {},
   "outputs": [
    {
     "data": {
      "text/plain": [
       "<AxesSubplot:>"
      ]
     },
     "execution_count": 23,
     "metadata": {},
     "output_type": "execute_result"
    },
    {
     "data": {
      "image/png": "[encoded data removed]",
      "text/plain": [
       "<Figure size 432x288 with 1 Axes>"
      ]
     },
     "metadata": {
      "needs_background": "light"
     },
     "output_type": "display_data"
    }
   ],
   "source": [
    "df['preço'].hist(bins=100)"
   ]
  },
  {
   "cell_type": "code",
   "execution_count": 24,
   "metadata": {},
   "outputs": [
    {
     "data": {
      "text/plain": [
       "<AxesSubplot:ylabel='preço'>"
      ]
     },
     "execution_count": 24,
     "metadata": {},
     "output_type": "execute_result"
    },
    {
     "data": {
      "image/png": "[encoded data removed]",
      "text/plain": [
       "<Figure size 432x288 with 1 Axes>"
      ]
     },
     "metadata": {
      "needs_background": "light"
     },
     "output_type": "display_data"
    }
   ],
   "source": [
    "sns.boxplot(data = df, y = \"preço\")"
   ]
  },
  {
   "cell_type": "code",
   "execution_count": 25,
   "metadata": {},
   "outputs": [
    {
     "data": {
      "text/plain": [
       "<AxesSubplot:xlabel='crawler', ylabel='preço'>"
      ]
     },
     "execution_count": 25,
     "metadata": {},
     "output_type": "execute_result"
    },
    {
     "data": {
      "image/png": "[encoded data removed]",
      "text/plain": [
       "<Figure size 1440x360 with 1 Axes>"
      ]
     },
     "metadata": {
      "needs_background": "light"
     },
     "output_type": "display_data"
    }
   ],
   "source": [
    "plt.figure(figsize=(20,5))\n",
    "sns.boxplot(data = df, y = \"preço\", x = 'crawler')"
   ]
  },
  {
   "cell_type": "code",
   "execution_count": 26,
   "metadata": {},
   "outputs": [
    {
     "data": {
      "text/plain": [
       "2500     300\n",
       "2000     270\n",
       "3000     253\n",
       "3500     251\n",
       "1800     209\n",
       "        ... \n",
       "2571       1\n",
       "550        1\n",
       "12900      1\n",
       "4720       1\n",
       "8200       1\n",
       "Name: preço, Length: 558, dtype: int64"
      ]
     },
     "execution_count": 26,
     "metadata": {},
     "output_type": "execute_result"
    }
   ],
   "source": [
    "df['preço'].value_counts()"
   ]
  },
  {
   "cell_type": "code",
   "execution_count": 27,
   "metadata": {},
   "outputs": [
    {
     "data": {
      "text/plain": [
       "<AxesSubplot:xlabel='preço', ylabel='area_limpo'>"
      ]
     },
     "execution_count": 27,
     "metadata": {},
     "output_type": "execute_result"
    },
    {
     "data": {
      "image/png": "[encoded data removed]",
      "text/plain": [
       "<Figure size 432x288 with 1 Axes>"
      ]
     },
     "metadata": {
      "needs_background": "light"
     },
     "output_type": "display_data"
    }
   ],
   "source": [
    "sns.scatterplot(data = df, y = \"area_limpo\", x = 'preço')"
   ]
  },
  {
   "cell_type": "code",
   "execution_count": 28,
   "metadata": {},
   "outputs": [
    {
     "data": {
      "text/html": [
       "<div>\n",
       "<style scoped>\n",
       "    .dataframe tbody tr th:only-of-type {\n",
       "        vertical-align: middle;\n",
       "    }\n",
       "\n",
       "    .dataframe tbody tr th {\n",
       "        vertical-align: top;\n",
       "    }\n",
       "\n",
       "    .dataframe thead th {\n",
       "        text-align: right;\n",
       "    }\n",
       "</style>\n",
       "<table border=\"1\" class=\"dataframe\">\n",
       "  <thead>\n",
       "    <tr style=\"text-align: right;\">\n",
       "      <th></th>\n",
       "      <th>id</th>\n",
       "      <th>url</th>\n",
       "      <th>header</th>\n",
       "      <th>address</th>\n",
       "      <th>amenities</th>\n",
       "      <th>crawler</th>\n",
       "      <th>crawled_at</th>\n",
       "      <th>Quarto</th>\n",
       "      <th>Banheiro</th>\n",
       "      <th>Garagem</th>\n",
       "      <th>condominio</th>\n",
       "      <th>preço</th>\n",
       "      <th>area_limpo</th>\n",
       "    </tr>\n",
       "  </thead>\n",
       "  <tbody>\n",
       "    <tr>\n",
       "      <th>2572</th>\n",
       "      <td>1539255508</td>\n",
       "      <td>https://www.vivareal.com.br/imovel/apartamento...</td>\n",
       "      <td>Apartamento com 2 Quartos para Aluguel, 86m²</td>\n",
       "      <td>Rua Marquês de São Vicente - Gávea, Rio de Jan...</td>\n",
       "      <td>Mobiliado, Ar-condicionado, Playground, Salão ...</td>\n",
       "      <td>cosme_velho</td>\n",
       "      <td>2021-09-03 17:39:00</td>\n",
       "      <td>2</td>\n",
       "      <td>2</td>\n",
       "      <td>0</td>\n",
       "      <td>1090.0</td>\n",
       "      <td>6900000</td>\n",
       "      <td>86</td>\n",
       "    </tr>\n",
       "    <tr>\n",
       "      <th>4326</th>\n",
       "      <td>1539255508</td>\n",
       "      <td>https://www.vivareal.com.br/imovel/apartamento...</td>\n",
       "      <td>Apartamento com 2 Quartos para Aluguel, 86m²</td>\n",
       "      <td>Rua Marquês de São Vicente - Gávea, Rio de Jan...</td>\n",
       "      <td>Mobiliado, Ar-condicionado, Playground, Salão ...</td>\n",
       "      <td>gávea</td>\n",
       "      <td>2021-09-03 17:58:00</td>\n",
       "      <td>2</td>\n",
       "      <td>2</td>\n",
       "      <td>0</td>\n",
       "      <td>1090.0</td>\n",
       "      <td>6900000</td>\n",
       "      <td>86</td>\n",
       "    </tr>\n",
       "    <tr>\n",
       "      <th>5280</th>\n",
       "      <td>2508392805</td>\n",
       "      <td>https://www.vivareal.com.br/imovel/apartamento...</td>\n",
       "      <td>Apartamento com 2 Quartos para Aluguel, 90m²</td>\n",
       "      <td>Rua Prudente de Morais - Ipanema, Rio de Janei...</td>\n",
       "      <td>Piscina, Mobiliado, Elevador, Academia, Jardim...</td>\n",
       "      <td>ipanema</td>\n",
       "      <td>2021-09-03 18:08:00</td>\n",
       "      <td>2</td>\n",
       "      <td>2</td>\n",
       "      <td>0</td>\n",
       "      <td>4447.0</td>\n",
       "      <td>105000</td>\n",
       "      <td>90</td>\n",
       "    </tr>\n",
       "    <tr>\n",
       "      <th>5327</th>\n",
       "      <td>2516655277</td>\n",
       "      <td>https://www.vivareal.com.br/imovel/apartamento...</td>\n",
       "      <td>Apartamento com 4 Quartos para Venda/Aluguel 6...</td>\n",
       "      <td>Avenida Vieira Souto - Ipanema, Rio de Janeiro...</td>\n",
       "      <td>Quadra poliesportiva, Interfone, Armário na co...</td>\n",
       "      <td>ipanema</td>\n",
       "      <td>2021-09-03 18:08:00</td>\n",
       "      <td>4</td>\n",
       "      <td>4</td>\n",
       "      <td>0</td>\n",
       "      <td>20000.0</td>\n",
       "      <td>120001</td>\n",
       "      <td>600</td>\n",
       "    </tr>\n",
       "    <tr>\n",
       "      <th>5567</th>\n",
       "      <td>2520360380</td>\n",
       "      <td>https://www.vivareal.com.br/imovel/apartamento...</td>\n",
       "      <td>Apartamento com 4 Quartos para Aluguel, 600m²</td>\n",
       "      <td>Avenida Vieira Souto - Ipanema, Rio de Janeiro...</td>\n",
       "      <td>Interfone, Mobiliado, Armário na cozinha</td>\n",
       "      <td>ipanema</td>\n",
       "      <td>2021-09-03 18:12:00</td>\n",
       "      <td>4</td>\n",
       "      <td>4</td>\n",
       "      <td>0</td>\n",
       "      <td>18000.0</td>\n",
       "      <td>115001</td>\n",
       "      <td>600</td>\n",
       "    </tr>\n",
       "    <tr>\n",
       "      <th>5732</th>\n",
       "      <td>2452770527</td>\n",
       "      <td>https://www.vivareal.com.br/imovel/apartamento...</td>\n",
       "      <td>Apartamento com 4 Quartos à Venda/Aluguel 600m²</td>\n",
       "      <td>Avenida Vieira Souto, 564 - Ipanema, Rio de Ja...</td>\n",
       "      <td>Piscina, Mobiliado, Churrasqueira, Elevador, C...</td>\n",
       "      <td>ipanema</td>\n",
       "      <td>2021-09-03 18:13:00</td>\n",
       "      <td>4</td>\n",
       "      <td>6</td>\n",
       "      <td>0</td>\n",
       "      <td>20000.0</td>\n",
       "      <td>117000</td>\n",
       "      <td>600</td>\n",
       "    </tr>\n",
       "    <tr>\n",
       "      <th>5740</th>\n",
       "      <td>2452770528</td>\n",
       "      <td>https://www.vivareal.com.br/imovel/apartamento...</td>\n",
       "      <td>Apartamento com 4 Quartos para Aluguel, 600m²</td>\n",
       "      <td>Avenida Vieira Souto, 564 - Ipanema, Rio de Ja...</td>\n",
       "      <td>Piscina, Mobiliado, Churrasqueira, Elevador, C...</td>\n",
       "      <td>ipanema</td>\n",
       "      <td>2021-09-03 18:13:00</td>\n",
       "      <td>4</td>\n",
       "      <td>6</td>\n",
       "      <td>0</td>\n",
       "      <td>20000.0</td>\n",
       "      <td>119000</td>\n",
       "      <td>600</td>\n",
       "    </tr>\n",
       "    <tr>\n",
       "      <th>6577</th>\n",
       "      <td>2509450879</td>\n",
       "      <td>https://www.vivareal.com.br/imovel/apartamento...</td>\n",
       "      <td>Apartamento com 3 Quartos para Aluguel, 151m²</td>\n",
       "      <td>Laranjeiras, Rio de Janeiro - RJ</td>\n",
       "      <td>NaN</td>\n",
       "      <td>laranjeiras</td>\n",
       "      <td>2021-09-03 18:23:00</td>\n",
       "      <td>3</td>\n",
       "      <td>2</td>\n",
       "      <td>0</td>\n",
       "      <td>900.0</td>\n",
       "      <td>1300000</td>\n",
       "      <td>151</td>\n",
       "    </tr>\n",
       "  </tbody>\n",
       "</table>\n",
       "</div>"
      ],
      "text/plain": [
       "              id                                                url  \\\n",
       "2572  1539255508  https://www.vivareal.com.br/imovel/apartamento...   \n",
       "4326  1539255508  https://www.vivareal.com.br/imovel/apartamento...   \n",
       "5280  2508392805  https://www.vivareal.com.br/imovel/apartamento...   \n",
       "5327  2516655277  https://www.vivareal.com.br/imovel/apartamento...   \n",
       "5567  2520360380  https://www.vivareal.com.br/imovel/apartamento...   \n",
       "5732  2452770527  https://www.vivareal.com.br/imovel/apartamento...   \n",
       "5740  2452770528  https://www.vivareal.com.br/imovel/apartamento...   \n",
       "6577  2509450879  https://www.vivareal.com.br/imovel/apartamento...   \n",
       "\n",
       "                                                 header  \\\n",
       "2572       Apartamento com 2 Quartos para Aluguel, 86m²   \n",
       "4326       Apartamento com 2 Quartos para Aluguel, 86m²   \n",
       "5280       Apartamento com 2 Quartos para Aluguel, 90m²   \n",
       "5327  Apartamento com 4 Quartos para Venda/Aluguel 6...   \n",
       "5567      Apartamento com 4 Quartos para Aluguel, 600m²   \n",
       "5732    Apartamento com 4 Quartos à Venda/Aluguel 600m²   \n",
       "5740      Apartamento com 4 Quartos para Aluguel, 600m²   \n",
       "6577      Apartamento com 3 Quartos para Aluguel, 151m²   \n",
       "\n",
       "                                                address  \\\n",
       "2572  Rua Marquês de São Vicente - Gávea, Rio de Jan...   \n",
       "4326  Rua Marquês de São Vicente - Gávea, Rio de Jan...   \n",
       "5280  Rua Prudente de Morais - Ipanema, Rio de Janei...   \n",
       "5327  Avenida Vieira Souto - Ipanema, Rio de Janeiro...   \n",
       "5567  Avenida Vieira Souto - Ipanema, Rio de Janeiro...   \n",
       "5732  Avenida Vieira Souto, 564 - Ipanema, Rio de Ja...   \n",
       "5740  Avenida Vieira Souto, 564 - Ipanema, Rio de Ja...   \n",
       "6577                   Laranjeiras, Rio de Janeiro - RJ   \n",
       "\n",
       "                                              amenities      crawler  \\\n",
       "2572  Mobiliado, Ar-condicionado, Playground, Salão ...  cosme_velho   \n",
       "4326  Mobiliado, Ar-condicionado, Playground, Salão ...        gávea   \n",
       "5280  Piscina, Mobiliado, Elevador, Academia, Jardim...      ipanema   \n",
       "5327  Quadra poliesportiva, Interfone, Armário na co...      ipanema   \n",
       "5567           Interfone, Mobiliado, Armário na cozinha      ipanema   \n",
       "5732  Piscina, Mobiliado, Churrasqueira, Elevador, C...      ipanema   \n",
       "5740  Piscina, Mobiliado, Churrasqueira, Elevador, C...      ipanema   \n",
       "6577                                                NaN  laranjeiras   \n",
       "\n",
       "               crawled_at  Quarto  Banheiro  Garagem  condominio    preço  \\\n",
       "2572  2021-09-03 17:39:00       2         2        0      1090.0  6900000   \n",
       "4326  2021-09-03 17:58:00       2         2        0      1090.0  6900000   \n",
       "5280  2021-09-03 18:08:00       2         2        0      4447.0   105000   \n",
       "5327  2021-09-03 18:08:00       4         4        0     20000.0   120001   \n",
       "5567  2021-09-03 18:12:00       4         4        0     18000.0   115001   \n",
       "5732  2021-09-03 18:13:00       4         6        0     20000.0   117000   \n",
       "5740  2021-09-03 18:13:00       4         6        0     20000.0   119000   \n",
       "6577  2021-09-03 18:23:00       3         2        0       900.0  1300000   \n",
       "\n",
       "      area_limpo  \n",
       "2572          86  \n",
       "4326          86  \n",
       "5280          90  \n",
       "5327         600  \n",
       "5567         600  \n",
       "5732         600  \n",
       "5740         600  \n",
       "6577         151  "
      ]
     },
     "execution_count": 28,
     "metadata": {},
     "output_type": "execute_result"
    }
   ],
   "source": [
    "df.loc[(df['preço']>100000)].iloc[:,:13]"
   ]
  },
  {
   "cell_type": "code",
   "execution_count": 29,
   "metadata": {},
   "outputs": [
    {
     "data": {
      "text/plain": [
       "['https://www.vivareal.com.br/imovel/apartamento-2-quartos-gavea-zona-sul-rio-de-janeiro-com-garagem-86m2-aluguel-RS6900000-id-1539255508/',\n",
       " 'https://www.vivareal.com.br/imovel/apartamento-2-quartos-gavea-zona-sul-rio-de-janeiro-com-garagem-86m2-aluguel-RS6900000-id-1539255508/',\n",
       " 'https://www.vivareal.com.br/imovel/apartamento-2-quartos-ipanema-zona-sul-rio-de-janeiro-com-garagem-90m2-aluguel-RS105000-id-2508392805/',\n",
       " 'https://www.vivareal.com.br/imovel/apartamento-4-quartos-ipanema-zona-sul-rio-de-janeiro-com-garagem-600m2-venda-RS60000000-id-2516655277/',\n",
       " 'https://www.vivareal.com.br/imovel/apartamento-4-quartos-ipanema-zona-sul-rio-de-janeiro-com-garagem-600m2-aluguel-RS115001-id-2520360380/',\n",
       " 'https://www.vivareal.com.br/imovel/apartamento-4-quartos-ipanema-zona-sul-rio-de-janeiro-com-garagem-600m2-venda-RS65000000-id-2452770527/',\n",
       " 'https://www.vivareal.com.br/imovel/apartamento-4-quartos-ipanema-zona-sul-rio-de-janeiro-com-garagem-600m2-aluguel-RS119000-id-2452770528/',\n",
       " 'https://www.vivareal.com.br/imovel/apartamento-3-quartos-laranjeiras-zona-sul-rio-de-janeiro-151m2-aluguel-RS1300000-id-2509450879/']"
      ]
     },
     "execution_count": 29,
     "metadata": {},
     "output_type": "execute_result"
    }
   ],
   "source": [
    "df.loc[(df['preço']>100000)]['url'].tolist()"
   ]
  },
  {
   "cell_type": "code",
   "execution_count": 30,
   "metadata": {},
   "outputs": [],
   "source": [
    "#sns.histplot(df, x='preço',hue='crawler')"
   ]
  },
  {
   "cell_type": "code",
   "execution_count": 31,
   "metadata": {},
   "outputs": [
    {
     "data": {
      "text/plain": [
       "botafogo           1080\n",
       "copacabana         1079\n",
       "ipanema            1077\n",
       "cosme_velho        1075\n",
       "leblon              998\n",
       "flamengo            890\n",
       "laranjeiras         366\n",
       "lagoa               331\n",
       "catete              201\n",
       "leme                173\n",
       "glória              159\n",
       "humaitá             144\n",
       "gávea               139\n",
       "jardim_botanico     136\n",
       "são_conrado          88\n",
       "urca                 73\n",
       "Name: crawler, dtype: int64"
      ]
     },
     "execution_count": 31,
     "metadata": {},
     "output_type": "execute_result"
    }
   ],
   "source": [
    "df['crawler'].value_counts()"
   ]
  },
  {
   "cell_type": "code",
   "execution_count": 32,
   "metadata": {},
   "outputs": [
    {
     "data": {
      "text/html": [
       "<div>\n",
       "<style scoped>\n",
       "    .dataframe tbody tr th:only-of-type {\n",
       "        vertical-align: middle;\n",
       "    }\n",
       "\n",
       "    .dataframe tbody tr th {\n",
       "        vertical-align: top;\n",
       "    }\n",
       "\n",
       "    .dataframe thead th {\n",
       "        text-align: right;\n",
       "    }\n",
       "</style>\n",
       "<table border=\"1\" class=\"dataframe\">\n",
       "  <thead>\n",
       "    <tr style=\"text-align: right;\">\n",
       "      <th></th>\n",
       "      <th>Quarto</th>\n",
       "      <th>Banheiro</th>\n",
       "      <th>Garagem</th>\n",
       "      <th>condominio</th>\n",
       "      <th>preço</th>\n",
       "      <th>area_limpo</th>\n",
       "    </tr>\n",
       "  </thead>\n",
       "  <tbody>\n",
       "    <tr>\n",
       "      <th>Quarto</th>\n",
       "      <td>1.000000</td>\n",
       "      <td>0.646467</td>\n",
       "      <td>0.091775</td>\n",
       "      <td>0.011583</td>\n",
       "      <td>0.026384</td>\n",
       "      <td>0.766958</td>\n",
       "    </tr>\n",
       "    <tr>\n",
       "      <th>Banheiro</th>\n",
       "      <td>0.646467</td>\n",
       "      <td>1.000000</td>\n",
       "      <td>0.059375</td>\n",
       "      <td>0.005925</td>\n",
       "      <td>0.030710</td>\n",
       "      <td>0.668298</td>\n",
       "    </tr>\n",
       "    <tr>\n",
       "      <th>Garagem</th>\n",
       "      <td>0.091775</td>\n",
       "      <td>0.059375</td>\n",
       "      <td>1.000000</td>\n",
       "      <td>-0.000633</td>\n",
       "      <td>0.000274</td>\n",
       "      <td>0.069948</td>\n",
       "    </tr>\n",
       "    <tr>\n",
       "      <th>condominio</th>\n",
       "      <td>0.011583</td>\n",
       "      <td>0.005925</td>\n",
       "      <td>-0.000633</td>\n",
       "      <td>1.000000</td>\n",
       "      <td>0.001716</td>\n",
       "      <td>0.018828</td>\n",
       "    </tr>\n",
       "    <tr>\n",
       "      <th>preço</th>\n",
       "      <td>0.026384</td>\n",
       "      <td>0.030710</td>\n",
       "      <td>0.000274</td>\n",
       "      <td>0.001716</td>\n",
       "      <td>1.000000</td>\n",
       "      <td>0.038555</td>\n",
       "    </tr>\n",
       "    <tr>\n",
       "      <th>area_limpo</th>\n",
       "      <td>0.766958</td>\n",
       "      <td>0.668298</td>\n",
       "      <td>0.069948</td>\n",
       "      <td>0.018828</td>\n",
       "      <td>0.038555</td>\n",
       "      <td>1.000000</td>\n",
       "    </tr>\n",
       "  </tbody>\n",
       "</table>\n",
       "</div>"
      ],
      "text/plain": [
       "              Quarto  Banheiro   Garagem  condominio     preço  area_limpo\n",
       "Quarto      1.000000  0.646467  0.091775    0.011583  0.026384    0.766958\n",
       "Banheiro    0.646467  1.000000  0.059375    0.005925  0.030710    0.668298\n",
       "Garagem     0.091775  0.059375  1.000000   -0.000633  0.000274    0.069948\n",
       "condominio  0.011583  0.005925 -0.000633    1.000000  0.001716    0.018828\n",
       "preço       0.026384  0.030710  0.000274    0.001716  1.000000    0.038555\n",
       "area_limpo  0.766958  0.668298  0.069948    0.018828  0.038555    1.000000"
      ]
     },
     "execution_count": 32,
     "metadata": {},
     "output_type": "execute_result"
    }
   ],
   "source": [
    "df[['Quarto', 'Banheiro', 'Garagem', 'condominio', 'preço', 'area_limpo']].corr()"
   ]
  },
  {
   "cell_type": "code",
   "execution_count": 33,
   "metadata": {},
   "outputs": [
    {
     "data": {
      "text/plain": [
       "<AxesSubplot:>"
      ]
     },
     "execution_count": 33,
     "metadata": {},
     "output_type": "execute_result"
    },
    {
     "data": {
      "image/png": "[encoded data removed]",
      "text/plain": [
       "<Figure size 432x288 with 2 Axes>"
      ]
     },
     "metadata": {
      "needs_background": "light"
     },
     "output_type": "display_data"
    }
   ],
   "source": [
    "sns.heatmap(df[['Quarto', 'Banheiro', 'Garagem', 'condominio', 'preço', 'area_limpo']].corr(), annot=True)"
   ]
  },
  {
   "cell_type": "code",
   "execution_count": 34,
   "metadata": {},
   "outputs": [
    {
     "data": {
      "text/plain": [
       "Index(['catete', 'glória', 'humaitá', 'flamengo', 'botafogo', 'copacabana',\n",
       "       'leme', 'jardim_botanico', 'urca', 'laranjeiras', 'lagoa', 'leblon',\n",
       "       'cosme_velho', 'são_conrado', 'ipanema', 'gávea'],\n",
       "      dtype='object', name='crawler')"
      ]
     },
     "execution_count": 34,
     "metadata": {},
     "output_type": "execute_result"
    }
   ],
   "source": [
    "ordem = df[[\"crawler\" , \"preço\"]].groupby(\"crawler\").mean().sort_values(by=\"preço\").index\n",
    "ordem"
   ]
  },
  {
   "cell_type": "code",
   "execution_count": 35,
   "metadata": {},
   "outputs": [
    {
     "data": {
      "text/plain": [
       "<AxesSubplot:xlabel='preço', ylabel='crawler'>"
      ]
     },
     "execution_count": 35,
     "metadata": {},
     "output_type": "execute_result"
    },
    {
     "data": {
      "image/png": "[encoded data removed]",
      "text/plain": [
       "<Figure size 720x720 with 1 Axes>"
      ]
     },
     "metadata": {
      "needs_background": "light"
     },
     "output_type": "display_data"
    }
   ],
   "source": [
    "plt.figure(figsize=(10,10))\n",
    "sns.boxplot(data=df,\n",
    "           x='preço',\n",
    "           y='crawler',\n",
    "           order=ordem)"
   ]
  },
  {
   "cell_type": "code",
   "execution_count": 37,
   "metadata": {},
   "outputs": [
    {
     "data": {
      "text/plain": [
       "count    8.009000e+03\n",
       "mean     7.167531e+03\n",
       "std      1.101064e+05\n",
       "min      5.000000e+01\n",
       "25%      2.000000e+03\n",
       "50%      3.100000e+03\n",
       "75%      5.500000e+03\n",
       "max      6.900000e+06\n",
       "Name: preço, dtype: float64"
      ]
     },
     "execution_count": 37,
     "metadata": {},
     "output_type": "execute_result"
    }
   ],
   "source": [
    "df['preço'].describe()"
   ]
  },
  {
   "cell_type": "code",
   "execution_count": 38,
   "metadata": {},
   "outputs": [
    {
     "data": {
      "text/plain": [
       "count    7.813000e+03\n",
       "mean     2.241055e+03\n",
       "std      4.689624e+04\n",
       "min      1.000000e+00\n",
       "25%      7.150000e+02\n",
       "50%      1.112000e+03\n",
       "75%      1.900000e+03\n",
       "max      4.102000e+06\n",
       "Name: condominio, dtype: float64"
      ]
     },
     "execution_count": 38,
     "metadata": {},
     "output_type": "execute_result"
    }
   ],
   "source": [
    "df['condominio'].describe()"
   ]
  },
  {
   "cell_type": "markdown",
   "metadata": {},
   "source": [
    "## Após limpar os outrliers"
   ]
  },
  {
   "cell_type": "code",
   "execution_count": 39,
   "metadata": {},
   "outputs": [],
   "source": [
    "df = pd.read_csv('C:/Users/Thiago/Desktop/DS Python/Potifolio/Calculadora de imoveis/Datasets/Aptos_sem_outliers.csv')"
   ]
  },
  {
   "cell_type": "code",
   "execution_count": 40,
   "metadata": {},
   "outputs": [
    {
     "data": {
      "text/plain": [
       "<AxesSubplot:xlabel='preço', ylabel='crawler'>"
      ]
     },
     "execution_count": 40,
     "metadata": {},
     "output_type": "execute_result"
    },
    {
     "data": {
      "image/png": "[encoded data removed]",
      "text/plain": [
       "<Figure size 720x720 with 1 Axes>"
      ]
     },
     "metadata": {
      "needs_background": "light"
     },
     "output_type": "display_data"
    }
   ],
   "source": [
    "plt.figure(figsize=(10,10))\n",
    "sns.boxplot(data=df,\n",
    "           x='preço',\n",
    "           y='crawler',\n",
    "           order=ordem)"
   ]
  },
  {
   "cell_type": "code",
   "execution_count": 41,
   "metadata": {},
   "outputs": [
    {
     "data": {
      "text/plain": [
       "count      7810.000000\n",
       "mean       5294.121127\n",
       "std        6728.371617\n",
       "min         250.000000\n",
       "25%        2048.500000\n",
       "50%        3100.000000\n",
       "75%        5500.000000\n",
       "max      120001.000000\n",
       "Name: preço, dtype: float64"
      ]
     },
     "execution_count": 41,
     "metadata": {},
     "output_type": "execute_result"
    }
   ],
   "source": [
    "df['preço'].describe()"
   ]
  },
  {
   "cell_type": "code",
   "execution_count": 42,
   "metadata": {},
   "outputs": [
    {
     "data": {
      "text/plain": [
       "count    7.810000e+03\n",
       "mean     2.241521e+03\n",
       "std      4.690525e+04\n",
       "min      1.000000e+00\n",
       "25%      7.150000e+02\n",
       "50%      1.112000e+03\n",
       "75%      1.900000e+03\n",
       "max      4.102000e+06\n",
       "Name: condominio, dtype: float64"
      ]
     },
     "execution_count": 42,
     "metadata": {},
     "output_type": "execute_result"
    }
   ],
   "source": [
    "df['condominio'].describe()"
   ]
  },
  {
   "cell_type": "code",
   "execution_count": 44,
   "metadata": {},
   "outputs": [
    {
     "data": {
      "text/plain": [
       "<AxesSubplot:xlabel='preço', ylabel='area_limpo'>"
      ]
     },
     "execution_count": 44,
     "metadata": {},
     "output_type": "execute_result"
    },
    {
     "data": {
      "image/png": "[encoded data removed]",
      "text/plain": [
       "<Figure size 432x288 with 1 Axes>"
      ]
     },
     "metadata": {
      "needs_background": "light"
     },
     "output_type": "display_data"
    }
   ],
   "source": [
    "sns.scatterplot(data = df, y = \"area_limpo\", x = 'preço')"
   ]
  },
  {
   "cell_type": "code",
   "execution_count": 45,
   "metadata": {},
   "outputs": [
    {
     "data": {
      "text/html": [
       "<div>\n",
       "<style scoped>\n",
       "    .dataframe tbody tr th:only-of-type {\n",
       "        vertical-align: middle;\n",
       "    }\n",
       "\n",
       "    .dataframe tbody tr th {\n",
       "        vertical-align: top;\n",
       "    }\n",
       "\n",
       "    .dataframe thead th {\n",
       "        text-align: right;\n",
       "    }\n",
       "</style>\n",
       "<table border=\"1\" class=\"dataframe\">\n",
       "  <thead>\n",
       "    <tr style=\"text-align: right;\">\n",
       "      <th></th>\n",
       "      <th>Quarto</th>\n",
       "      <th>Banheiro</th>\n",
       "      <th>Garagem</th>\n",
       "      <th>condominio</th>\n",
       "      <th>preço</th>\n",
       "      <th>area_limpo</th>\n",
       "    </tr>\n",
       "  </thead>\n",
       "  <tbody>\n",
       "    <tr>\n",
       "      <th>Quarto</th>\n",
       "      <td>1.000000</td>\n",
       "      <td>0.641656</td>\n",
       "      <td>0.091347</td>\n",
       "      <td>0.011584</td>\n",
       "      <td>0.497626</td>\n",
       "      <td>0.768645</td>\n",
       "    </tr>\n",
       "    <tr>\n",
       "      <th>Banheiro</th>\n",
       "      <td>0.641656</td>\n",
       "      <td>1.000000</td>\n",
       "      <td>0.058822</td>\n",
       "      <td>0.005924</td>\n",
       "      <td>0.513014</td>\n",
       "      <td>0.665917</td>\n",
       "    </tr>\n",
       "    <tr>\n",
       "      <th>Garagem</th>\n",
       "      <td>0.091347</td>\n",
       "      <td>0.058822</td>\n",
       "      <td>1.000000</td>\n",
       "      <td>-0.000635</td>\n",
       "      <td>0.050016</td>\n",
       "      <td>0.070076</td>\n",
       "    </tr>\n",
       "    <tr>\n",
       "      <th>condominio</th>\n",
       "      <td>0.011584</td>\n",
       "      <td>0.005924</td>\n",
       "      <td>-0.000635</td>\n",
       "      <td>1.000000</td>\n",
       "      <td>0.035576</td>\n",
       "      <td>0.018828</td>\n",
       "    </tr>\n",
       "    <tr>\n",
       "      <th>preço</th>\n",
       "      <td>0.497626</td>\n",
       "      <td>0.513014</td>\n",
       "      <td>0.050016</td>\n",
       "      <td>0.035576</td>\n",
       "      <td>1.000000</td>\n",
       "      <td>0.696067</td>\n",
       "    </tr>\n",
       "    <tr>\n",
       "      <th>area_limpo</th>\n",
       "      <td>0.768645</td>\n",
       "      <td>0.665917</td>\n",
       "      <td>0.070076</td>\n",
       "      <td>0.018828</td>\n",
       "      <td>0.696067</td>\n",
       "      <td>1.000000</td>\n",
       "    </tr>\n",
       "  </tbody>\n",
       "</table>\n",
       "</div>"
      ],
      "text/plain": [
       "              Quarto  Banheiro   Garagem  condominio     preço  area_limpo\n",
       "Quarto      1.000000  0.641656  0.091347    0.011584  0.497626    0.768645\n",
       "Banheiro    0.641656  1.000000  0.058822    0.005924  0.513014    0.665917\n",
       "Garagem     0.091347  0.058822  1.000000   -0.000635  0.050016    0.070076\n",
       "condominio  0.011584  0.005924 -0.000635    1.000000  0.035576    0.018828\n",
       "preço       0.497626  0.513014  0.050016    0.035576  1.000000    0.696067\n",
       "area_limpo  0.768645  0.665917  0.070076    0.018828  0.696067    1.000000"
      ]
     },
     "execution_count": 45,
     "metadata": {},
     "output_type": "execute_result"
    }
   ],
   "source": [
    "df[['Quarto', 'Banheiro', 'Garagem', 'condominio', 'preço', 'area_limpo']].corr()"
   ]
  },
  {
   "cell_type": "code",
   "execution_count": 46,
   "metadata": {},
   "outputs": [
    {
     "data": {
      "text/plain": [
       "<AxesSubplot:>"
      ]
     },
     "execution_count": 46,
     "metadata": {},
     "output_type": "execute_result"
    },
    {
     "data": {
      "image/png": "[encoded data removed]",
      "text/plain": [
       "<Figure size 432x288 with 2 Axes>"
      ]
     },
     "metadata": {
      "needs_background": "light"
     },
     "output_type": "display_data"
    }
   ],
   "source": [
    "sns.heatmap(df[['Quarto', 'Banheiro', 'Garagem', 'condominio', 'preço', 'area_limpo']].corr(), annot=True)"
   ]
  }
 ],
 "metadata": {
  "kernelspec": {
   "display_name": "Python 3",
   "language": "python",
   "name": "python3"
  },
  "language_info": {
   "codemirror_mode": {
    "name": "ipython",
    "version": 3
   },
   "file_extension": ".py",
   "mimetype": "text/x-python",
   "name": "python",
   "nbconvert_exporter": "python",
   "pygments_lexer": "ipython3",
   "version": "3.8.5"
  }
 },
 "nbformat": 4,
 "nbformat_minor": 4
}
